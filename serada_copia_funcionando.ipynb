{
 "cells": [
  {
   "cell_type": "code",
   "execution_count": null,
   "metadata": {},
   "outputs": [],
   "source": [
    "Web Scraping com Selenium\n",
    "O que é selenium?\n",
    "Selenium é um conjunto de ferramentas para automatizar navegadores web, disponiveis em java, python, C#, Rubby, javascript, Kotlin.\n",
    "\n",
    "Site: https://www.selenium.dev/"
   ]
  },
  {
   "cell_type": "code",
   "execution_count": null,
   "metadata": {},
   "outputs": [],
   "source": [
    "Porque realizar web Scraping?\n",
    "A Serasa não disponibiliza APi para coleta da informações ou forma de realizar o dowload completo dos dados. \n",
    "Para realizar o download completo dos dados tem o custo de R$ 2,73 por CNPJ por mês a partir de um \n",
    "contrato de prestação de serviços como temos 30.000 CNPJ ativos o custo não é viavél \n",
    "Os dados estão disponíveis para consulta apenas no endereço https://sitenet.serasa.com.br/"
   ]
  },
  {
   "cell_type": "code",
   "execution_count": null,
   "metadata": {},
   "outputs": [],
   "source": [
    "Estruturando o problema\n",
    "Para realizar a coleta de dados com o selenium precisamos simular todas as ações de um usuário, dentro do site da Serasa. Vamos analisar esses passo a passo, anotandos os dados das ações do usuário.\n",
    "\n"
   ]
  },
  {
   "cell_type": "code",
   "execution_count": null,
   "metadata": {},
   "outputs": [],
   "source": [
    "Web Driver\n",
    "O webdriver exige o dowload compativel com o seu navegador web, nesta tarefa utilizaremos o Google Chrome. Podemos verificar a lista de driver disponiveis em https://www.selenium.dev/documentation/en/webdriver/driver_requirements/\n",
    "\n",
    "Baixamos compativel com nosso navegador:"
   ]
  },
  {
   "cell_type": "code",
   "execution_count": null,
   "metadata": {},
   "outputs": [],
   "source": [
    "Web Driver\n",
    "O webdriver exige o dowload compativel com o seu navegador web, nesta tarefa utilizaremos o Google Chrome. Podemos verificar a lista de driver disponiveis em https://www.selenium.dev/documentation/en/webdriver/driver_requirements/\n",
    "\n",
    "Baixamos compativel com nosso navegador:"
   ]
  },
  {
   "cell_type": "code",
   "execution_count": 1,
   "metadata": {},
   "outputs": [
    {
     "name": "stdout",
     "output_type": "stream",
     "text": [
      "Requirement already satisfied: selenium==3.141.0 in c:\\users\\marcio.santana\\anaconda3\\lib\\site-packages (3.141.0)\n",
      "Requirement already satisfied: urllib3 in c:\\users\\marcio.santana\\anaconda3\\lib\\site-packages (from selenium==3.141.0) (1.25.8)\n"
     ]
    }
   ],
   "source": [
    "!pip install selenium==3.141.0"
   ]
  },
  {
   "cell_type": "code",
   "execution_count": 2,
   "metadata": {},
   "outputs": [
    {
     "name": "stdout",
     "output_type": "stream",
     "text": [
      "Versão utilizada 3.141.0\n"
     ]
    }
   ],
   "source": [
    "import selenium\n",
    "from selenium import webdriver\n",
    "print(\"Versão utilizada\", selenium.__version__)"
   ]
  },
  {
   "cell_type": "code",
   "execution_count": 3,
   "metadata": {},
   "outputs": [],
   "source": [
    "# logon\n",
    "\n",
    "senha = 'Carol@19'\n",
    "login = '50024136'\n",
    "\n",
    "login_site = '//*[@id=\"LOGON\"]'\n",
    "login_senha = '//*[@id=\"SENHA\"]'\n",
    "#cnpj = '26.239.335/0001-50'\n",
    "\n",
    "\n",
    "\n",
    "# Dados Site\n",
    "\n",
    "site = 'https://sitenet.serasa.com.br/Logon/'\n",
    "\n",
    "#Telas\n",
    "xpath_relato = '//*[@id=\"linkMaisAcessados4-set-variable\"]'\n",
    "xpath_informa_cnpj ='//*[@id=\"cnpj1\"]'\n",
    "xpath_limite_credito ='//*[@id=\"tdOpLimitePJ\"]/label'\n",
    "\n",
    "\n",
    "\n",
    "#opções\n",
    "id_consulta_cnpj= '//*[@id=\"cnpj1\"]'\n",
    "id_limite_credito = '//*[@id=\"tdOpLimitePJ\"]/label'\n",
    "\n",
    "#botoes\n",
    "id_botao_consultar = '//*[@id=\"bntConsultar\"]'\n",
    "id_retorno_consulta = '//*[@id=\"lc-valor\"]'\n",
    "id_botao_logar = '//*[@id=\"acessar\"]'\n",
    "id_botao_consultar ='//*[@id=\"bntConsultar\"]'\n",
    "id_nova_consulta = '//*[@id=\"corpo\"]/form[1]/footer/div[2]/div[2]/div/div/button'\n",
    "\n",
    "# captura de dados\n",
    "\n",
    "retorno_limite = '//*[@id=\"lc-valor\"]'\n",
    "\n",
    "\n",
    "\n",
    "#Caminho arquivo Web driver\n",
    "WEBDRIVER = 'C:\\\\Driver Selenium\\\\chromedriver.exe'"
   ]
  },
  {
   "cell_type": "code",
   "execution_count": 11,
   "metadata": {},
   "outputs": [
    {
     "ename": "SyntaxError",
     "evalue": "invalid syntax (<ipython-input-11-098aef9b33c8>, line 1)",
     "output_type": "error",
     "traceback": [
      "\u001b[1;36m  File \u001b[1;32m\"<ipython-input-11-098aef9b33c8>\"\u001b[1;36m, line \u001b[1;32m1\u001b[0m\n\u001b[1;33m    Tempo de resposta do navegador:\u001b[0m\n\u001b[1;37m           ^\u001b[0m\n\u001b[1;31mSyntaxError\u001b[0m\u001b[1;31m:\u001b[0m invalid syntax\n"
     ]
    }
   ],
   "source": [
    "Tempo de resposta do navegador:\n",
    "Como estamos simulando a ação de um usuário a com o selenium precisamos esperar que a informações sejam redenrizadas no navegador,\n",
    "por esse motivo, a cada execução precisamos esperar que o html seja atualizado.\n"
   ]
  },
  {
   "cell_type": "code",
   "execution_count": 4,
   "metadata": {},
   "outputs": [],
   "source": [
    "#Metodo de esperar de esperar\n",
    "import random\n",
    "import time\n",
    "\n",
    "def esperar(segundos=None):\n",
    "    \"\"\"Casos nenhum valor seja atribuido, \n",
    "    será atribuido um tempo randomico entre 2 e 8\n",
    "    (Feito desta forma para simular a ação de um usuário)\"\"\"\n",
    "    if not segundos:\n",
    "        segundos = random.randrange(3,15)\n",
    "    time.sleep(segundos)"
   ]
  },
  {
   "cell_type": "code",
   "execution_count": 9,
   "metadata": {},
   "outputs": [],
   "source": [
    "# Abrindo o navegador, utilizando o drive do cromio\n",
    "#driver = webdriver.Chrome('C:\\\\Driver Selenium\\\\chromedriver.exe')\n",
    "#driver.get(site)\n",
    "#esperar() # espera 15 segunos para executar outra interação "
   ]
  },
  {
   "cell_type": "code",
   "execution_count": 5,
   "metadata": {},
   "outputs": [
    {
     "data": {
      "text/html": [
       "<div>\n",
       "<style scoped>\n",
       "    .dataframe tbody tr th:only-of-type {\n",
       "        vertical-align: middle;\n",
       "    }\n",
       "\n",
       "    .dataframe tbody tr th {\n",
       "        vertical-align: top;\n",
       "    }\n",
       "\n",
       "    .dataframe thead th {\n",
       "        text-align: right;\n",
       "    }\n",
       "</style>\n",
       "<table border=\"1\" class=\"dataframe\">\n",
       "  <thead>\n",
       "    <tr style=\"text-align: right;\">\n",
       "      <th></th>\n",
       "      <th>codigo</th>\n",
       "      <th>nome</th>\n",
       "      <th>cnpj</th>\n",
       "    </tr>\n",
       "  </thead>\n",
       "  <tbody>\n",
       "    <tr>\n",
       "      <th>0</th>\n",
       "      <td>426</td>\n",
       "      <td>MERCADO COIAND LTDA - ME</td>\n",
       "      <td>07.569.958/0001-47</td>\n",
       "    </tr>\n",
       "    <tr>\n",
       "      <th>1</th>\n",
       "      <td>428</td>\n",
       "      <td>ARMAZEM DO DECA LIMITADA</td>\n",
       "      <td>26.239.335/0001-50</td>\n",
       "    </tr>\n",
       "    <tr>\n",
       "      <th>2</th>\n",
       "      <td>435</td>\n",
       "      <td>CASA DE CARNES MATIAS LTDA</td>\n",
       "      <td>25.297.888/0001-05</td>\n",
       "    </tr>\n",
       "    <tr>\n",
       "      <th>3</th>\n",
       "      <td>445</td>\n",
       "      <td>MARIA DA VITORIAS ANDRADE DA SILVA</td>\n",
       "      <td>03.542.647/0001-33</td>\n",
       "    </tr>\n",
       "    <tr>\n",
       "      <th>4</th>\n",
       "      <td>456</td>\n",
       "      <td>VILLE CENTER COMERCIO LTDA - ME</td>\n",
       "      <td>04.473.764/0001-55</td>\n",
       "    </tr>\n",
       "    <tr>\n",
       "      <th>5</th>\n",
       "      <td>474</td>\n",
       "      <td>SUPERMERCADO BARRIGAO LTDA</td>\n",
       "      <td>21.682.455/0001-04</td>\n",
       "    </tr>\n",
       "    <tr>\n",
       "      <th>6</th>\n",
       "      <td>496</td>\n",
       "      <td>CASA DE CARNE ROMA LTDA</td>\n",
       "      <td>17.225.012/0001-17</td>\n",
       "    </tr>\n",
       "    <tr>\n",
       "      <th>7</th>\n",
       "      <td>507</td>\n",
       "      <td>AQUINOS BAR E RESTAURANTE LTDA</td>\n",
       "      <td>04.171.648/0001-81</td>\n",
       "    </tr>\n",
       "    <tr>\n",
       "      <th>8</th>\n",
       "      <td>510</td>\n",
       "      <td>PANIFICADORA BATISTA &amp; OLIVEIRA LTDA</td>\n",
       "      <td>04.981.177/0001-77</td>\n",
       "    </tr>\n",
       "    <tr>\n",
       "      <th>9</th>\n",
       "      <td>515</td>\n",
       "      <td>MERCEARIA IRMAOS XISTO LTDA</td>\n",
       "      <td>23.264.492/0001-28</td>\n",
       "    </tr>\n",
       "  </tbody>\n",
       "</table>\n",
       "</div>"
      ],
      "text/plain": [
       "   codigo                                   nome                cnpj\n",
       "0     426               MERCADO COIAND LTDA - ME  07.569.958/0001-47\n",
       "1     428               ARMAZEM DO DECA LIMITADA  26.239.335/0001-50\n",
       "2     435             CASA DE CARNES MATIAS LTDA  25.297.888/0001-05\n",
       "3     445     MARIA DA VITORIAS ANDRADE DA SILVA  03.542.647/0001-33\n",
       "4     456        VILLE CENTER COMERCIO LTDA - ME  04.473.764/0001-55\n",
       "5     474             SUPERMERCADO BARRIGAO LTDA  21.682.455/0001-04\n",
       "6     496                CASA DE CARNE ROMA LTDA  17.225.012/0001-17\n",
       "7     507         AQUINOS BAR E RESTAURANTE LTDA  04.171.648/0001-81\n",
       "8     510  PANIFICADORA BATISTA & OLIVEIRA LTDA   04.981.177/0001-77\n",
       "9     515            MERCEARIA IRMAOS XISTO LTDA  23.264.492/0001-28"
      ]
     },
     "execution_count": 5,
     "metadata": {},
     "output_type": "execute_result"
    }
   ],
   "source": [
    "import pandas as pd\n",
    "fornecedor = pd.read_csv('c:\\\\Driver Selenium\\\\fornecedor_cnpj.csv', sep=';')\n",
    "fornecedor"
   ]
  },
  {
   "cell_type": "code",
   "execution_count": 6,
   "metadata": {},
   "outputs": [],
   "source": [
    "fornecedor_total = fornecedor\n",
    "limite_credito = []"
   ]
  },
  {
   "cell_type": "code",
   "execution_count": 7,
   "metadata": {
    "scrolled": true
   },
   "outputs": [],
   "source": [
    "# fazendo logon\n",
    "pagina_login = login_site\n",
    "pagina_senha = login_senha\n",
    "botao_logar = id_botao_logar\n",
    "driver = webdriver.Chrome('C:\\\\Driver Selenium\\\\chromedriver.exe')\n",
    "driver.get(site)\n",
    "esperar(10)\n",
    "input_login = driver.find_element_by_xpath(pagina_login)\n",
    "input_senha = driver.find_element_by_xpath(pagina_senha)\n",
    "input_botao_logar = driver.find_element_by_xpath(botao_logar)\n",
    "input_login.send_keys(login)\n",
    "input_senha.send_keys(senha)\n",
    "input_botao_logar.click()\n",
    "tipo_consulta = driver.find_element_by_xpath(xpath_relato)\n",
    "tipo_consulta.click()\n",
    "esperar()\n",
    "for index, row in fornecedor.iterrows():\n",
    "    cnpj = (row['cnpj'])\n",
    "    input_informar_cnpj = driver.find_element_by_xpath(xpath_informa_cnpj)\n",
    "    input_informar_cnpj.send_keys(cnpj)\n",
    "    teste_limite = driver.find_element_by_xpath(xpath_limite_credito).is_selected()\n",
    "    #tipo_limite_credito = driver.find_element_by_xpath(xpath_limite_credito)\n",
    "    #tipo_limite_credito.click()\n",
    "    tipo_consultar = driver.find_element_by_xpath(id_botao_consultar)\n",
    "    tipo_consultar.click()\n",
    "    #copiando resultados resultados da tabela\n",
    "    retorno = driver.find_element_by_xpath(retorno_limite).text\n",
    "    retorno.split()\n",
    "    valor_gravar = retorno.split('R$')\n",
    "    valor_final = valor_gravar[1]\n",
    "    limite_credito.append(valor_final)\n",
    "    esperar()\n",
    "    tipo_nova_consulta = driver.find_element_by_xpath(id_nova_consulta)\n",
    "    tipo_nova_consulta.click()\n",
    "fornecedor_total['limte_credito'] = limite_credito\n",
    "driver.close()\n",
    "driver.quit()\n",
    "\n",
    "\n",
    "\n",
    "\n"
   ]
  },
  {
   "cell_type": "code",
   "execution_count": 8,
   "metadata": {},
   "outputs": [],
   "source": [
    "fornecedor_total.to_csv('lista_atual.csv', sep=';')"
   ]
  },
  {
   "cell_type": "code",
   "execution_count": 25,
   "metadata": {},
   "outputs": [
    {
     "data": {
      "text/html": [
       "<div>\n",
       "<style scoped>\n",
       "    .dataframe tbody tr th:only-of-type {\n",
       "        vertical-align: middle;\n",
       "    }\n",
       "\n",
       "    .dataframe tbody tr th {\n",
       "        vertical-align: top;\n",
       "    }\n",
       "\n",
       "    .dataframe thead th {\n",
       "        text-align: right;\n",
       "    }\n",
       "</style>\n",
       "<table border=\"1\" class=\"dataframe\">\n",
       "  <thead>\n",
       "    <tr style=\"text-align: right;\">\n",
       "      <th></th>\n",
       "      <th>codigo</th>\n",
       "      <th>nome</th>\n",
       "      <th>cnpj</th>\n",
       "      <th>limte_credito</th>\n",
       "    </tr>\n",
       "  </thead>\n",
       "  <tbody>\n",
       "    <tr>\n",
       "      <th>0</th>\n",
       "      <td>426</td>\n",
       "      <td>MERCADO COIAND LTDA - ME</td>\n",
       "      <td>07.569.958/0001-47</td>\n",
       "      <td>81.000</td>\n",
       "    </tr>\n",
       "    <tr>\n",
       "      <th>1</th>\n",
       "      <td>428</td>\n",
       "      <td>ARMAZEM DO DECA LIMITADA</td>\n",
       "      <td>26.239.335/0001-50</td>\n",
       "      <td>0</td>\n",
       "    </tr>\n",
       "    <tr>\n",
       "      <th>2</th>\n",
       "      <td>435</td>\n",
       "      <td>CASA DE CARNES MATIAS LTDA</td>\n",
       "      <td>25.297.888/0001-05</td>\n",
       "      <td>5.400</td>\n",
       "    </tr>\n",
       "    <tr>\n",
       "      <th>3</th>\n",
       "      <td>445</td>\n",
       "      <td>MARIA DA VITORIAS ANDRADE DA SILVA</td>\n",
       "      <td>03.542.647/0001-33</td>\n",
       "      <td>43.200</td>\n",
       "    </tr>\n",
       "    <tr>\n",
       "      <th>4</th>\n",
       "      <td>456</td>\n",
       "      <td>VILLE CENTER COMERCIO LTDA - ME</td>\n",
       "      <td>04.473.764/0001-55</td>\n",
       "      <td>24.300</td>\n",
       "    </tr>\n",
       "    <tr>\n",
       "      <th>5</th>\n",
       "      <td>474</td>\n",
       "      <td>SUPERMERCADO BARRIGAO LTDA</td>\n",
       "      <td>21.682.455/0001-04</td>\n",
       "      <td>54.000</td>\n",
       "    </tr>\n",
       "    <tr>\n",
       "      <th>6</th>\n",
       "      <td>496</td>\n",
       "      <td>CASA DE CARNE ROMA LTDA</td>\n",
       "      <td>17.225.012/0001-17</td>\n",
       "      <td>89.100</td>\n",
       "    </tr>\n",
       "    <tr>\n",
       "      <th>7</th>\n",
       "      <td>507</td>\n",
       "      <td>AQUINOS BAR E RESTAURANTE LTDA</td>\n",
       "      <td>04.171.648/0001-81</td>\n",
       "      <td>18.000</td>\n",
       "    </tr>\n",
       "    <tr>\n",
       "      <th>8</th>\n",
       "      <td>510</td>\n",
       "      <td>PANIFICADORA BATISTA &amp; OLIVEIRA LTDA</td>\n",
       "      <td>04.981.177/0001-77</td>\n",
       "      <td>16.200</td>\n",
       "    </tr>\n",
       "    <tr>\n",
       "      <th>9</th>\n",
       "      <td>515</td>\n",
       "      <td>MERCEARIA IRMAOS XISTO LTDA</td>\n",
       "      <td>23.264.492/0001-28</td>\n",
       "      <td>54.000</td>\n",
       "    </tr>\n",
       "  </tbody>\n",
       "</table>\n",
       "</div>"
      ],
      "text/plain": [
       "   codigo                                   nome                cnpj  \\\n",
       "0     426               MERCADO COIAND LTDA - ME  07.569.958/0001-47   \n",
       "1     428               ARMAZEM DO DECA LIMITADA  26.239.335/0001-50   \n",
       "2     435             CASA DE CARNES MATIAS LTDA  25.297.888/0001-05   \n",
       "3     445     MARIA DA VITORIAS ANDRADE DA SILVA  03.542.647/0001-33   \n",
       "4     456        VILLE CENTER COMERCIO LTDA - ME  04.473.764/0001-55   \n",
       "5     474             SUPERMERCADO BARRIGAO LTDA  21.682.455/0001-04   \n",
       "6     496                CASA DE CARNE ROMA LTDA  17.225.012/0001-17   \n",
       "7     507         AQUINOS BAR E RESTAURANTE LTDA  04.171.648/0001-81   \n",
       "8     510  PANIFICADORA BATISTA & OLIVEIRA LTDA   04.981.177/0001-77   \n",
       "9     515            MERCEARIA IRMAOS XISTO LTDA  23.264.492/0001-28   \n",
       "\n",
       "  limte_credito  \n",
       "0        81.000  \n",
       "1             0  \n",
       "2         5.400  \n",
       "3        43.200  \n",
       "4        24.300  \n",
       "5        54.000  \n",
       "6        89.100  \n",
       "7        18.000  \n",
       "8        16.200  \n",
       "9        54.000  "
      ]
     },
     "execution_count": 25,
     "metadata": {},
     "output_type": "execute_result"
    }
   ],
   "source": [
    "fornecedor_total"
   ]
  },
  {
   "cell_type": "code",
   "execution_count": 21,
   "metadata": {},
   "outputs": [
    {
     "data": {
      "text/plain": [
       "['07.569.958/0001-47',\n",
       " '26.239.335/0001-50',\n",
       " '25.297.888/0001-05',\n",
       " '03.542.647/0001-33',\n",
       " '04.473.764/0001-55',\n",
       " '21.682.455/0001-04',\n",
       " '17.225.012/0001-17',\n",
       " '04.171.648/0001-81',\n",
       " '04.981.177/0001-77',\n",
       " '23.264.492/0001-28',\n",
       " ' 81.000',\n",
       " ' 0',\n",
       " ' 27.600',\n",
       " ' 43.200',\n",
       " ' 24.300',\n",
       " ' 54.000',\n",
       " ' 89.100',\n",
       " ' 18.000',\n",
       " ' 16.200',\n",
       " ' 54.000']"
      ]
     },
     "execution_count": 21,
     "metadata": {},
     "output_type": "execute_result"
    }
   ],
   "source": [
    "limite_credito"
   ]
  },
  {
   "cell_type": "code",
   "execution_count": null,
   "metadata": {},
   "outputs": [],
   "source": []
  }
 ],
 "metadata": {
  "kernelspec": {
   "display_name": "Python 3",
   "language": "python",
   "name": "python3"
  },
  "language_info": {
   "codemirror_mode": {
    "name": "ipython",
    "version": 3
   },
   "file_extension": ".py",
   "mimetype": "text/x-python",
   "name": "python",
   "nbconvert_exporter": "python",
   "pygments_lexer": "ipython3",
   "version": "3.7.6"
  }
 },
 "nbformat": 4,
 "nbformat_minor": 4
}
